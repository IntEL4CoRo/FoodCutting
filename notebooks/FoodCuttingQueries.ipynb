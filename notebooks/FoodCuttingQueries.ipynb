{
 "cells": [
  {
   "cell_type": "code",
   "execution_count": null,
   "id": "c872b362",
   "metadata": {},
   "outputs": [],
   "source": [
    "# Parameters:"
   ]
  },
  {
   "cell_type": "markdown",
   "metadata": {},
   "source": [
    "import rdflib for querying the knowledge graph for action parameters"
   ]
  },
  {
   "cell_type": "code",
   "execution_count": 1,
   "metadata": {},
   "outputs": [
    {
     "name": "stdout",
     "output_type": "stream",
     "text": [
      "Requirement already satisfied: rdflib in c:\\users\\micha\\appdata\\roaming\\python\\python36\\site-packages (5.0.0)\n",
      "Requirement already satisfied: pyparsing in c:\\program files (x86)\\microsoft visual studio\\shared\\anaconda3_64\\lib\\site-packages (from rdflib) (2.2.0)\n",
      "Requirement already satisfied: six in c:\\program files (x86)\\microsoft visual studio\\shared\\anaconda3_64\\lib\\site-packages (from rdflib) (1.11.0)\n",
      "Requirement already satisfied: isodate in c:\\users\\micha\\appdata\\roaming\\python\\python36\\site-packages (from rdflib) (0.6.1)\n"
     ]
    },
    {
     "name": "stderr",
     "output_type": "stream",
     "text": [
      "You are using pip version 10.0.1, however version 21.3.1 is available.\n",
      "You should consider upgrading via the 'python -m pip install --upgrade pip' command.\n"
     ]
    }
   ],
   "source": [
    "!pip install rdflib\n",
    "# import rdflib\n",
    "from rdflib import Graph, Literal, URIRef, Namespace\n",
    "# rdflib knows about quite a few popular namespaces, like W3C ontologies, schema.org etc\n",
    "from rdflib.namespace import OWL, RDF, RDFS"
   ]
  },
  {
   "cell_type": "markdown",
   "metadata": {},
   "source": [
    "# We can query for the toold to be used for the chosen task:"
   ]
  },
  {
   "cell_type": "code",
   "execution_count": 3,
   "metadata": {},
   "outputs": [],
   "source": [
    "g = Graph()\n",
    "\n",
    "# define prefixes to be used in the query \n",
    "SOMA = Namespace(\"http://www.ease-crc.org/ont/SOMA.owl#\")\n",
    "CUT2 = Namespace(\"http://www.ease-crc.org/ont/situation_awareness#\")\n",
    "CUT = Namespace(\"http://www.ease-crc.org/ont/food_cutting#\")\n",
    "DUL = Namespace(\"http://www.ontologydesignpatterns.org/ont/dul/DUL.owl#\")\n",
    "g.bind(\"owl\", OWL)\n",
    "g.bind(\"rdfs\", RDFS)\n",
    "g.bind(\"soma\", SOMA)\n",
    "g.bind(\"cut2\", CUT2)\n",
    "g.bind(\"cut\", CUT)\n",
    "g.bind(\"dul\", DUL)\n",
    "\n",
    "# the actual query comes here\n",
    "query = \"\"\"SELECT ?food ?alltools WHERE {\n",
    "      SERVICE <https://api.krr.triply.cc/datasets/mkumpel/FruitCuttingKG/services/FoodCuttingKG/sparql> {\n",
    "      ?food rdfs:subClassOf ?node.\n",
    "      ?node owl:onProperty soma:hasDisposition.\n",
    "      ?node owl:someValuesFrom ?collection.\n",
    "      ?collection owl:intersectionOf ?node2.\n",
    "      ?node2 rdf:first cut2:Cuttability.\n",
    "      ?node2 rdf:rest ?toolnode.\n",
    "      ?toolnode rdf:rest ?collection2.\n",
    "      ?collection2 rdf:first ?tooluse.\n",
    "      ?tooluse owl:onProperty soma:affordsTrigger.\n",
    "      ?tooluse owl:allValuesFrom ?tool.\n",
    "      ?tool owl:onProperty dul:classifies.\n",
    "      ?tool owl:allValuesFrom ?whattool.\n",
    "      ?alltools rdfs:subClassOf* ?whattool.} }\"\"\"\n",
    "\n",
    "for row in g.query(query):\n",
    "    print(row.alltools)"
   ]
  },
  {
   "cell_type": "markdown",
   "metadata": {},
   "source": [
    "# The robot needs to know if prior actions need to be executed:"
   ]
  },
  {
   "cell_type": "code",
   "execution_count": 14,
   "metadata": {},
   "outputs": [
    {
     "name": "stdout",
     "output_type": "stream",
     "text": [
      "http://purl.obolibrary.org/obo/FOODON_03309927 http://www.ease-crc.org/ont/food_cutting#StemRemoving\n",
      "http://purl.obolibrary.org/obo/FOODON_00003520 http://www.ease-crc.org/ont/food_cutting#StemRemoving\n",
      "http://purl.obolibrary.org/obo/FOODON_00003415 http://www.ease-crc.org/ont/food_cutting#StemRemoving\n",
      "http://purl.obolibrary.org/obo/FOODON_00003486 http://www.ease-crc.org/ont/food_cutting#Peeling\n",
      "http://purl.obolibrary.org/obo/FOODON_00003539 http://www.ease-crc.org/ont/food_cutting#Peeling\n",
      "http://purl.obolibrary.org/obo/FOODON_00003443 http://www.ease-crc.org/ont/food_cutting#StemRemoving\n",
      "http://purl.obolibrary.org/obo/FOODON_03301710 http://www.ease-crc.org/ont/food_cutting#CoreCutting\n",
      "http://purl.obolibrary.org/obo/FOODON_03301710 http://www.ease-crc.org/ont/food_cutting#CoreScraping\n",
      "http://purl.obolibrary.org/obo/FOODON_03309832 http://www.ease-crc.org/ont/food_cutting#Peeling\n",
      "http://purl.obolibrary.org/obo/FOODON_00003459 http://www.ease-crc.org/ont/food_cutting#Peeling\n",
      "http://purl.obolibrary.org/obo/FOODON_00004183 http://www.ease-crc.org/ont/food_cutting#Peeling\n",
      "http://purl.obolibrary.org/obo/FOODON_03301337 http://www.ease-crc.org/ont/food_cutting#Peeling\n",
      "http://www.ease-crc.org/ont/food_cutting#stone_fruit http://www.ease-crc.org/ont/food_cutting#CoreCutting\n",
      "http://www.ease-crc.org/ont/food_cutting#stone_fruit http://www.ease-crc.org/ont/food_cutting#CoreScraping\n"
     ]
    }
   ],
   "source": [
    "additionalactionquery = \"\"\"SELECT ?food ?action WHERE {\n",
    "      SERVICE <https://api.krr.triply.cc/datasets/mkumpel/FruitCuttingKG/services/FoodCuttingKG/sparql> {  \n",
    "  ?food rdfs:subClassOf ?restriction.\n",
    "  ?restriction owl:onProperty cut:hasPart.\n",
    "  ?restriction owl:someValuesFrom ?node.\n",
    "  ?node owl:intersectionOf ?intersec.\n",
    "  ?intersec rdf:first ?foodpart.\n",
    "  ?intersec rdf:rest ?node2.\n",
    "  ?node2 rdf:first ?part.\n",
    "  ?part owl:onProperty cut:hasEdibility.\n",
    "  {?part owl:someValuesFrom cut:ShouldBeAvoided.}\n",
    "  UNION\n",
    "  {?part owl:someValuesFrom cut:MustBeAvoided.}\n",
    "  ?foodpart rdfs:subClassOf ?partrestriction.\n",
    "  ?partrestriction owl:onProperty soma:hasDisposition.\n",
    "  ?partrestriction owl:someValuesFrom ?partnode.\n",
    "  ?partnode owl:intersectionOf ?intersection.\n",
    "  ?intersection rdf:first ?disposition.\n",
    "  ?intersection rdf:rest ?actionrestriction.\n",
    "  ?actionrestriction rdf:first ?actionnode.\n",
    "  ?actionnode owl:onProperty soma:affordsTask.\n",
    "  ?actionnode owl:someValuesFrom ?action.\n",
    "} }\"\"\"\n",
    "\n",
    "for row in g.query(additionalactionquery):\n",
    "    print(row.food, row.action)"
   ]
  },
  {
   "cell_type": "code",
   "execution_count": 15,
   "metadata": {},
   "outputs": [
    {
     "name": "stdout",
     "output_type": "stream",
     "text": [
      "http://www.ease-crc.org/ont/food_cutting#Julienning http://www.ease-crc.org/ont/SOMA.owl#Slicing\n",
      "http://www.ease-crc.org/ont/food_cutting#Quartering http://www.ease-crc.org/ont/food_cutting#Halving\n",
      "http://www.ease-crc.org/ont/SOMA.owl#Dicing http://www.ease-crc.org/ont/food_cutting#Julienning\n"
     ]
    }
   ],
   "source": [
    "prioractionquery = \"\"\"  SELECT ?task ?priortask WHERE {\n",
    "      SERVICE <https://api.krr.triply.cc/datasets/mkumpel/FruitCuttingKG/services/FoodCuttingKG/sparql> {  \n",
    "  ?task rdfs:subClassOf ?sub.\n",
    "  ?sub owl:onProperty cut:requiresPriorTask .\n",
    "  ?sub owl:someValuesFrom ?priortask.\n",
    "} }\"\"\"\n",
    "\n",
    "for row in g.query(prioractionquery):\n",
    "    print(row.task, row.priortask)"
   ]
  },
  {
   "cell_type": "markdown",
   "metadata": {},
   "source": [
    "# The robot needs to also know the number of repetitions required for performing the task:"
   ]
  },
  {
   "cell_type": "code",
   "execution_count": 4,
   "metadata": {},
   "outputs": [],
   "source": [
    "repetitionsquery = \"\"\"  SELECT ?task ?res WHERE {\n",
    "      SERVICE <https://api.krr.triply.cc/datasets/mkumpel/FruitCuttingKG/services/FoodCuttingKG/sparql> {  \n",
    "  {\n",
    "      OPTIONAL{?task rdfs:subClassOf ?action}\n",
    "        ?action rdfs:subClassOf* ?rep_node.\n",
    "        ?rep_node owl:onProperty cut:repetitions.\n",
    "        FILTER EXISTS {\n",
    "            ?rep_node owl:hasValue ?val.\n",
    "            }\n",
    "        BIND(\"1\" AS ?res)\n",
    "    }\n",
    "    UNION\n",
    "    {\n",
    "        OPTIONAL{?task rdfs:subClassOf ?action}\n",
    "        ?action rdfs:subClassOf* ?rep_node.\n",
    "        ?rep_node owl:onProperty cut:repetitions.\n",
    "        FILTER EXISTS {\n",
    "            ?rep_node owl:minQualifiedCardinality ?val.\n",
    "        }\n",
    "        BIND(\"more than 1\" AS ?res)\n",
    "    }\n",
    "} }\"\"\"\n",
    "\n",
    "for row in g.query(repetitionsquery):\n",
    "    print(row.task, row.res)"
   ]
  },
  {
   "cell_type": "markdown",
   "metadata": {},
   "source": [
    "# Last thin to know before performing the task: The position needed for action execution:"
   ]
  },
  {
   "cell_type": "code",
   "execution_count": 21,
   "metadata": {},
   "outputs": [
    {
     "name": "stdout",
     "output_type": "stream",
     "text": [
      "http://www.ease-crc.org/ont/food_cutting#Halving http://www.ease-crc.org/ont/food_cutting#halving_position\n",
      "http://www.ease-crc.org/ont/SOMA.owl#Dicing http://www.ease-crc.org/ont/food_cutting#slicing_position\n",
      "http://www.ease-crc.org/ont/food_cutting#Carving http://www.ease-crc.org/ont/food_cutting#slicing_position\n",
      "http://www.ease-crc.org/ont/food_cutting#Paring http://www.ease-crc.org/ont/food_cutting#slicing_position\n",
      "http://www.ease-crc.org/ont/food_cutting#Sawing http://www.ease-crc.org/ont/food_cutting#slicing_position\n",
      "http://www.ease-crc.org/ont/food_cutting#Quartering http://www.ease-crc.org/ont/food_cutting#halving_position\n",
      "http://www.ease-crc.org/ont/food_cutting#Julienning http://www.ease-crc.org/ont/food_cutting#slicing_position\n",
      "http://www.ease-crc.org/ont/SOMA.owl#Slicing http://www.ease-crc.org/ont/food_cutting#slicing_position\n",
      "http://www.ease-crc.org/ont/SOMA.owl#Cutting http://www.ease-crc.org/ont/food_cutting#slicing_position\n",
      "http://www.ease-crc.org/ont/food_cutting#Chopping http://www.ease-crc.org/ont/food_cutting#slicing_position\n",
      "http://www.ease-crc.org/ont/food_cutting#Cubing http://www.ease-crc.org/ont/food_cutting#slicing_position\n",
      "http://www.ease-crc.org/ont/food_cutting#Mincing http://www.ease-crc.org/ont/food_cutting#slicing_position\n",
      "http://www.ease-crc.org/ont/food_cutting#Slivering http://www.ease-crc.org/ont/food_cutting#slicing_position\n",
      "http://www.ease-crc.org/ont/food_cutting#Snipping http://www.ease-crc.org/ont/food_cutting#slicing_position\n"
     ]
    }
   ],
   "source": [
    "positionquery = \"\"\"  SELECT ?task ?position WHERE {\n",
    "      SERVICE <https://api.krr.triply.cc/datasets/mkumpel/FruitCuttingKG/services/FoodCuttingKG/sparql> {  \n",
    "  OPTIONAL {?task rdfs:subClassOf ?sub.}\n",
    "  ?sub rdfs:subClassOf* ?node.\n",
    "  ?node owl:onProperty cut:affordsPosition.\n",
    "  ?node owl:someValuesFrom ?position.\n",
    "} }\"\"\"\n",
    "\n",
    "for row in g.query(positionquery):\n",
    "    print(row.task, row.position)"
   ]
  },
  {
   "cell_type": "code",
   "execution_count": null,
   "metadata": {},
   "outputs": [],
   "source": []
  }
 ],
 "metadata": {
  "kernelspec": {
   "display_name": "Python 3",
   "language": "python",
   "name": "python3"
  },
  "language_info": {
   "codemirror_mode": {
    "name": "ipython",
    "version": 3
   },
   "file_extension": ".py",
   "mimetype": "text/x-python",
   "name": "python",
   "nbconvert_exporter": "python",
   "pygments_lexer": "ipython3",
   "version": "3.6.5"
  }
 },
 "nbformat": 4,
 "nbformat_minor": 5
}
